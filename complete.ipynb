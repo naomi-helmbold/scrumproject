{
 "cells": [
  {
   "cell_type": "code",
   "execution_count": 2,
   "metadata": {},
   "outputs": [
    {
     "name": "stdout",
     "output_type": "stream",
     "text": [
      "Requirement already satisfied: textblob in c:\\users\\antoi\\anaconda3\\envs\\mlp-project\\lib\\site-packages (0.19.0)\n",
      "Requirement already satisfied: scikit-learn in c:\\users\\antoi\\anaconda3\\envs\\mlp-project\\lib\\site-packages (1.5.2)\n",
      "Requirement already satisfied: requests in c:\\users\\antoi\\anaconda3\\envs\\mlp-project\\lib\\site-packages (2.32.3)\n",
      "Requirement already satisfied: beautifulsoup4 in c:\\users\\antoi\\anaconda3\\envs\\mlp-project\\lib\\site-packages (4.12.3)\n",
      "Requirement already satisfied: transformers in c:\\users\\antoi\\anaconda3\\envs\\mlp-project\\lib\\site-packages (4.50.1)\n",
      "Requirement already satisfied: teapotai in c:\\users\\antoi\\anaconda3\\envs\\mlp-project\\lib\\site-packages (1.0.4)\n",
      "Requirement already satisfied: sentencepiece in c:\\users\\antoi\\anaconda3\\envs\\mlp-project\\lib\\site-packages (0.2.0)\n",
      "Requirement already satisfied: nltk>=3.9 in c:\\users\\antoi\\anaconda3\\envs\\mlp-project\\lib\\site-packages (from textblob) (3.9.1)\n",
      "Requirement already satisfied: numpy>=1.19.5 in c:\\users\\antoi\\anaconda3\\envs\\mlp-project\\lib\\site-packages (from scikit-learn) (1.26.0)\n",
      "Requirement already satisfied: scipy>=1.6.0 in c:\\users\\antoi\\anaconda3\\envs\\mlp-project\\lib\\site-packages (from scikit-learn) (1.11.4)\n",
      "Requirement already satisfied: joblib>=1.2.0 in c:\\users\\antoi\\anaconda3\\envs\\mlp-project\\lib\\site-packages (from scikit-learn) (1.4.2)\n",
      "Requirement already satisfied: threadpoolctl>=3.1.0 in c:\\users\\antoi\\anaconda3\\envs\\mlp-project\\lib\\site-packages (from scikit-learn) (3.5.0)\n",
      "Requirement already satisfied: charset-normalizer<4,>=2 in c:\\users\\antoi\\anaconda3\\envs\\mlp-project\\lib\\site-packages (from requests) (3.4.0)\n",
      "Requirement already satisfied: idna<4,>=2.5 in c:\\users\\antoi\\anaconda3\\envs\\mlp-project\\lib\\site-packages (from requests) (3.10)\n",
      "Requirement already satisfied: urllib3<3,>=1.21.1 in c:\\users\\antoi\\anaconda3\\envs\\mlp-project\\lib\\site-packages (from requests) (2.2.3)\n",
      "Requirement already satisfied: certifi>=2017.4.17 in c:\\users\\antoi\\anaconda3\\envs\\mlp-project\\lib\\site-packages (from requests) (2024.8.30)\n",
      "Requirement already satisfied: soupsieve>1.2 in c:\\users\\antoi\\anaconda3\\envs\\mlp-project\\lib\\site-packages (from beautifulsoup4) (2.6)\n",
      "Requirement already satisfied: filelock in c:\\users\\antoi\\anaconda3\\envs\\mlp-project\\lib\\site-packages (from transformers) (3.16.1)\n",
      "Requirement already satisfied: huggingface-hub<1.0,>=0.26.0 in c:\\users\\antoi\\anaconda3\\envs\\mlp-project\\lib\\site-packages (from transformers) (0.29.3)\n",
      "Requirement already satisfied: packaging>=20.0 in c:\\users\\antoi\\anaconda3\\envs\\mlp-project\\lib\\site-packages (from transformers) (24.1)\n",
      "Requirement already satisfied: pyyaml>=5.1 in c:\\users\\antoi\\anaconda3\\envs\\mlp-project\\lib\\site-packages (from transformers) (6.0.2)\n",
      "Requirement already satisfied: regex!=2019.12.17 in c:\\users\\antoi\\anaconda3\\envs\\mlp-project\\lib\\site-packages (from transformers) (2024.11.6)\n",
      "Requirement already satisfied: tokenizers<0.22,>=0.21 in c:\\users\\antoi\\anaconda3\\envs\\mlp-project\\lib\\site-packages (from transformers) (0.21.1)\n",
      "Requirement already satisfied: safetensors>=0.4.3 in c:\\users\\antoi\\anaconda3\\envs\\mlp-project\\lib\\site-packages (from transformers) (0.5.3)\n",
      "Requirement already satisfied: tqdm>=4.27 in c:\\users\\antoi\\anaconda3\\envs\\mlp-project\\lib\\site-packages (from transformers) (4.67.1)\n",
      "Requirement already satisfied: torch in c:\\users\\antoi\\anaconda3\\envs\\mlp-project\\lib\\site-packages (from teapotai) (2.6.0)\n",
      "Requirement already satisfied: pydantic in c:\\users\\antoi\\anaconda3\\envs\\mlp-project\\lib\\site-packages (from teapotai) (2.10.6)\n",
      "Requirement already satisfied: fsspec>=2023.5.0 in c:\\users\\antoi\\anaconda3\\envs\\mlp-project\\lib\\site-packages (from huggingface-hub<1.0,>=0.26.0->transformers) (2024.10.0)\n",
      "Requirement already satisfied: typing-extensions>=3.7.4.3 in c:\\users\\antoi\\anaconda3\\envs\\mlp-project\\lib\\site-packages (from huggingface-hub<1.0,>=0.26.0->transformers) (4.12.2)\n",
      "Requirement already satisfied: click in c:\\users\\antoi\\anaconda3\\envs\\mlp-project\\lib\\site-packages (from nltk>=3.9->textblob) (8.1.7)\n",
      "Requirement already satisfied: colorama in c:\\users\\antoi\\anaconda3\\envs\\mlp-project\\lib\\site-packages (from tqdm>=4.27->transformers) (0.4.6)\n",
      "Requirement already satisfied: annotated-types>=0.6.0 in c:\\users\\antoi\\anaconda3\\envs\\mlp-project\\lib\\site-packages (from pydantic->teapotai) (0.7.0)\n",
      "Requirement already satisfied: pydantic-core==2.27.2 in c:\\users\\antoi\\anaconda3\\envs\\mlp-project\\lib\\site-packages (from pydantic->teapotai) (2.27.2)\n",
      "Requirement already satisfied: networkx in c:\\users\\antoi\\anaconda3\\envs\\mlp-project\\lib\\site-packages (from torch->teapotai) (3.4.2)\n",
      "Requirement already satisfied: jinja2 in c:\\users\\antoi\\anaconda3\\envs\\mlp-project\\lib\\site-packages (from torch->teapotai) (3.1.4)\n",
      "Requirement already satisfied: sympy==1.13.1 in c:\\users\\antoi\\anaconda3\\envs\\mlp-project\\lib\\site-packages (from torch->teapotai) (1.13.1)\n",
      "Requirement already satisfied: mpmath<1.4,>=1.1.0 in c:\\users\\antoi\\anaconda3\\envs\\mlp-project\\lib\\site-packages (from sympy==1.13.1->torch->teapotai) (1.3.0)\n",
      "Requirement already satisfied: MarkupSafe>=2.0 in c:\\users\\antoi\\anaconda3\\envs\\mlp-project\\lib\\site-packages (from jinja2->torch->teapotai) (3.0.1)\n"
     ]
    }
   ],
   "source": [
    "!pip install textblob scikit-learn requests beautifulsoup4 transformers teapotai sentencepiece"
   ]
  },
  {
   "cell_type": "code",
   "execution_count": 3,
   "metadata": {},
   "outputs": [],
   "source": [
    "from textblob import TextBlob\n",
    "from sklearn.feature_extraction.text import CountVectorizer\n",
    "from sklearn.decomposition import LatentDirichletAllocation\n",
    "import requests\n",
    "from bs4 import BeautifulSoup\n",
    "from teapotai import TeapotAI"
   ]
  },
  {
   "cell_type": "code",
   "execution_count": 4,
   "metadata": {},
   "outputs": [],
   "source": [
    "def analyze_sentiment(text):\n",
    "    blob = TextBlob(text)\n",
    "    sentiment = blob.sentiment.polarity  # Retourne une valeur entre -1 (négatif) et 1 (positif)\n",
    "    \n",
    "    if sentiment > 0:\n",
    "        return 'Positif'\n",
    "    elif sentiment < 0:\n",
    "        return 'Négatif'\n",
    "    else:\n",
    "        return 'Neutre'\n",
    "\n",
    "# Fonction pour identifier le sujet avec Latent Dirichlet Allocation (LDA)\n",
    "def identify_topics(texts, n_topics=1, n_top_words=5):\n",
    "    vectorizer = CountVectorizer(stop_words='english')\n",
    "    dtm = vectorizer.fit_transform(texts)\n",
    "    \n",
    "    lda = LatentDirichletAllocation(n_components=n_topics, random_state=0)\n",
    "    lda.fit(dtm)\n",
    "    \n",
    "    topics = []\n",
    "    for idx, topic in enumerate(lda.components_):\n",
    "        terms = [vectorizer.get_feature_names_out()[i] for i in topic.argsort()[:-n_top_words - 1:-1]]\n",
    "        topics.extend(terms)\n",
    "    return topics\n",
    "\n",
    "def scrape_news(topics, websites):\n",
    "    articles = []  \n",
    "    for website in websites:\n",
    "        response = requests.get(website)\n",
    "        soup = BeautifulSoup(response.content, 'html.parser')\n",
    "\n",
    "        # for link in soup.find_all('a', href=True):\n",
    "        #     link_text = link.text.strip().lower()\n",
    "\n",
    "\n",
    "        #     if all(topic.lower() in link_text for topic in topics):\n",
    "        #         articles.append({'title': link.text.strip(), 'url': link['href']})\n",
    "\n",
    "    return soup\n"
   ]
  },
  {
   "cell_type": "code",
   "execution_count": 49,
   "metadata": {},
   "outputs": [
    {
     "name": "stdout",
     "output_type": "stream",
     "text": [
      "Contenu du tweet :  Earth is rounded\n",
      "Sentiment détecté :  Neutre\n",
      "Sujets identifiés :\n",
      "Websites :  ['https://www.wikipedia.org/wiki/rounded', 'https://www.wikipedia.org/wiki/earth']\n",
      "Articles trouvés :\n",
      "nditions and protects it from most meteoroids and UV-light at entry. It has a composition of primarily nitrogen and oxygen. Water vapor is widely present in the atmosphere, forming clouds that cover most of the planet. The water vapor acts as a greenhouse gas and, together with other greenhouse gases in the atmosphere, particularly carbon dioxide (CO2), creates the conditions for both liquid surface water and water vapor to persist via the capturing of energy from the Sun's light. This process maintains the current average surface temperature of 14.76 °C (58.57 °F), at which water is liquid under normal atmospheric pressure. Differences in the amount of captured energy between geographic regions (as with the equatorial region receiving more sunlight than the polar regions) drive atmospheric and ocean currents, producing a global climate system with different climate regions, and a range of weather phenomena such as precipitation, allowing components such as nitrogen to cycle.\n",
      "Earth is rounded into an ellipsoid with a circumference of about 40,000 kilometres (25,000 miles). It is the densest planet in the Solar System. Of the four rocky planets, it is the largest and most massive. Earth is about eight light-minutes away from the Sun and orbits it, taking a year (about 365.25 days) to complete one revolution. Earth rotates around its own axis in slightly less than a day (in about 23 hours and 56 minutes). Earth's axis of rotation is tilted with respect to the perpendicular to its orbital plane around the Sun, producing seasons. Earth is orbited by one permanent natural satellite, the Moon, which orbits Earth at 384,400 km (238,900 mi)—1.28 light seconds—and is roughly a quarter as wide as Earth. The Moon's gravity helps stabilize Earth's axis, causes tides and gradually slows Earth's rotation. Tidal locking has made the Moon always face Earth with the same side.\n",
      "Earth, like most other bodies in the Solar System, formed about 4.5 billion years ago from gas and dust in \n"
     ]
    }
   ],
   "source": [
    "UserInput = \"Earth is rounded\"\n",
    "\n",
    "print(\"Contenu du tweet : \", UserInput)\n",
    "\n",
    "# Analyse des sentiments\n",
    "sentiment = analyze_sentiment(UserInput)\n",
    "print(\"Sentiment détecté : \", sentiment)\n",
    "\n",
    "# Identification du sujet\n",
    "topics = identify_topics([UserInput])\n",
    "websites = []\n",
    "print(\"Sujets identifiés :\")\n",
    "for topic in topics:\n",
    "    websites.append('https://www.wikipedia.org/wiki/' + topic)\n",
    "\n",
    "#websites = ['https://www.bbc.com/news', 'https://www.cnn.com', 'https://www.wikipedia.org/', 'https://www.lemonde.fr/', 'https://www.foxnews.com/', 'https://www.nbcnews.com/']\n",
    "print(\"Websites : \", websites)\n",
    "for topic in topics:\n",
    "    articles = scrape_news(topic, websites)\n",
    "\n",
    "#Context = articles.text\n",
    "Context = articles.text[articles.text.lower().find(topics[0]) - 1000 : articles.text.lower().find(topics[0]) + 1000]\n",
    "print(\"Articles trouvés :\")\n",
    "print(Context)\n",
    "\n"
   ]
  },
  {
   "cell_type": "code",
   "execution_count": null,
   "metadata": {},
   "outputs": [
    {
     "name": "stdout",
     "output_type": "stream",
     "text": [
      " _____                      _         _    ___        __o__    _;; \n",
      "|_   _|__  __ _ _ __   ___ | |_      / \\  |_ _|   __ /-___-\\__/ /\n",
      "  | |/ _ \\/ _` | '_ \\ / _ \\| __|    / _ \\  | |   (  |       |__/\n",
      "  | |  __/ (_| | |_) | (_) | |_    / ___ \\ | |    \\_|~~~~~~~|\n",
      "  |_|\\___|\\__,_| .__/ \\___/ \\__/  /_/   \\_\\___|      \\_____/\n",
      "               |_|   \n",
      "Loading Model: teapotai/teapotllm Revision: Latest\n"
     ]
    },
    {
     "name": "stderr",
     "output_type": "stream",
     "text": [
      "Device set to use cpu\n"
     ]
    },
    {
     "name": "stdout",
     "output_type": "stream",
     "text": [
      "According to this context: nditions and protects it from most meteoroids and UV-light at entry. It has a composition of primarily nitrogen and oxygen. Water vapor is widely present in the atmosphere, forming clouds that cover most of the planet. The water vapor acts as a greenhouse gas and, together with other greenhouse gases in the atmosphere, particularly carbon dioxide (CO2), creates the conditions for both liquid surface water and water vapor to persist via the capturing of energy from the Sun's light. This process maintains the current average surface temperature of 14.76 °C (58.57 °F), at which water is liquid under normal atmospheric pressure. Differences in the amount of captured energy between geographic regions (as with the equatorial region receiving more sunlight than the polar regions) drive atmospheric and ocean currents, producing a global climate system with different climate regions, and a range of weather phenomena such as precipitation, allowing components such as nitrogen to cycle.\n",
      "Earth is rounded into an ellipsoid with a circumference of about 40,000 kilometres (25,000 miles). It is the densest planet in the Solar System. Of the four rocky planets, it is the largest and most massive. Earth is about eight light-minutes away from the Sun and orbits it, taking a year (about 365.25 days) to complete one revolution. Earth rotates around its own axis in slightly less than a day (in about 23 hours and 56 minutes). Earth's axis of rotation is tilted with respect to the perpendicular to its orbital plane around the Sun, producing seasons. Earth is orbited by one permanent natural satellite, the Moon, which orbits Earth at 384,400 km (238,900 mi)—1.28 light seconds—and is roughly a quarter as wide as Earth. The Moon's gravity helps stabilize Earth's axis, causes tides and gradually slows Earth's rotation. Tidal locking has made the Moon always face Earth with the same side.\n",
      "Earth, like most other bodies in the Solar System, formed about 4.5 billion years ago from gas and dust in , is the statement: Earth is rounded true? Give your answer as a boolean and the confidence level\n",
      "yes\n"
     ]
    }
   ],
   "source": [
    "teapot_ai = TeapotAI()\n",
    "\n",
    "query = \"According to this context: {Context}, is the statement: {UserInput} true? Give your answer as a yes or no.\"\n",
    "query = query.format(Context=Context, UserInput=UserInput)\n",
    "print(query)\n",
    "\n",
    "ans = teapot_ai.query(\n",
    "    query= query\n",
    ")\n",
    "print(ans)\n"
   ]
  },
  {
   "cell_type": "code",
   "execution_count": 55,
   "metadata": {},
   "outputs": [
    {
     "data": {
      "text/plain": [
       "'yes'"
      ]
     },
     "execution_count": 55,
     "metadata": {},
     "output_type": "execute_result"
    }
   ],
   "source": [
    "ans"
   ]
  },
  {
   "cell_type": "code",
   "execution_count": null,
   "metadata": {},
   "outputs": [],
   "source": []
  }
 ],
 "metadata": {
  "kernelspec": {
   "display_name": "MLP-Project",
   "language": "python",
   "name": "python3"
  },
  "language_info": {
   "codemirror_mode": {
    "name": "ipython",
    "version": 3
   },
   "file_extension": ".py",
   "mimetype": "text/x-python",
   "name": "python",
   "nbconvert_exporter": "python",
   "pygments_lexer": "ipython3",
   "version": "3.11.9"
  }
 },
 "nbformat": 4,
 "nbformat_minor": 2
}
