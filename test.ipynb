{
 "cells": [
  {
   "cell_type": "code",
   "execution_count": 10,
   "metadata": {},
   "outputs": [
    {
     "name": "stdout",
     "output_type": "stream",
     "text": [
      "Contenu du tweet :  À son arrivée place Beauvau, le ministre de l’Intérieur, Bruno Retailleau, comptait augmenter drastiquement les sorties du territoire. Cinq mois plus tard, il veut se concentrer sur «une politique de visas plus restrictive».\n",
      "Sentiment détecté :  Neutre\n",
      "Sujets identifiés :\n",
      "Topic 0: plus, restrictive, politique, concentrer, ministre\n",
      "Topic 1: plus, retailleau, visas, sur, sorties\n"
     ]
    }
   ],
   "source": [
    "import snscrape.modules.twitter as sntwitter\n",
    "import re\n",
    "from textblob import TextBlob\n",
    "from sklearn.feature_extraction.text import CountVectorizer\n",
    "from sklearn.decomposition import LatentDirichletAllocation\n",
    "\n",
    "# Fonction pour analyser les sentiments avec TextBlob\n",
    "def analyze_sentiment(text):\n",
    "    blob = TextBlob(text)\n",
    "    sentiment = blob.sentiment.polarity  # Retourne une valeur entre -1 (négatif) et 1 (positif)\n",
    "    \n",
    "    if sentiment > 0:\n",
    "        return 'Positif'\n",
    "    elif sentiment < 0:\n",
    "        return 'Négatif'\n",
    "    else:\n",
    "        return 'Neutre'\n",
    "\n",
    "# Fonction pour identifier le sujet avec Latent Dirichlet Allocation (LDA)\n",
    "def identify_topics(texts, n_topics=2, n_top_words=5):\n",
    "    vectorizer = CountVectorizer(stop_words='english')\n",
    "    dtm = vectorizer.fit_transform(texts)\n",
    "    \n",
    "    lda = LatentDirichletAllocation(n_components=n_topics, random_state=0)\n",
    "    lda.fit(dtm)\n",
    "    \n",
    "    topics = []\n",
    "    for idx, topic in enumerate(lda.components_):\n",
    "        terms = [vectorizer.get_feature_names_out()[i] for i in topic.argsort()[:-n_top_words - 1:-1]]\n",
    "        topics.append(\"Topic %d: %s\" % (idx, \", \".join(terms)))\n",
    "    return topics\n",
    "\n",
    "tweet_content = \"À son arrivée place Beauvau, le ministre de l’Intérieur, Bruno Retailleau, comptait augmenter drastiquement les sorties du territoire. Cinq mois plus tard, il veut se concentrer sur «une politique de visas plus restrictive».\"\n",
    "\n",
    "print(\"Contenu du tweet : \", tweet_content)\n",
    "\n",
    "# Analyse des sentiments\n",
    "sentiment = analyze_sentiment(tweet_content)\n",
    "print(\"Sentiment détecté : \", sentiment)\n",
    "\n",
    "# Identification du sujet\n",
    "topics = identify_topics([tweet_content])\n",
    "print(\"Sujets identifiés :\")\n",
    "for topic in topics:\n",
    "    print(topic)\n"
   ]
  }
 ],
 "metadata": {
  "kernelspec": {
   "display_name": "mlp-course",
   "language": "python",
   "name": "python3"
  },
  "language_info": {
   "codemirror_mode": {
    "name": "ipython",
    "version": 3
   },
   "file_extension": ".py",
   "mimetype": "text/x-python",
   "name": "python",
   "nbconvert_exporter": "python",
   "pygments_lexer": "ipython3",
   "version": "3.8.19"
  }
 },
 "nbformat": 4,
 "nbformat_minor": 2
}
